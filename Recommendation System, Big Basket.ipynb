{
  "cells": [
    {
      "cell_type": "code",
      "execution_count": null,
      "id": "1f34238d",
      "metadata": {
        "id": "1f34238d"
      },
      "outputs": [],
      "source": [
        "import pandas as pd\n",
        "from mlxtend.preprocessing import TransactionEncoder\n",
        "from mlxtend.frequent_patterns import apriori, association_rules\n",
        "from sklearn.metrics.pairwise import pairwise_distances\n",
        "from matplotlib import pyplot as plt\n",
        "from scipy.spatial.distance import pdist, squareform\n",
        "import pandas as pd\n",
        "import seaborn as sns"
      ]
    },
    {
      "cell_type": "code",
      "execution_count": null,
      "id": "1e2836ce",
      "metadata": {
        "id": "1e2836ce"
      },
      "outputs": [],
      "source": [
        "bb_data = pd.read_csv(\"IMB575 (Customer Analytics at Bigbasket - Product Recommendations, Spreadsheet).csv\")"
      ]
    },
    {
      "cell_type": "code",
      "execution_count": null,
      "id": "ca898340",
      "metadata": {
        "id": "ca898340",
        "outputId": "c43e3bac-ae76-4c57-ef4d-a250778b861a"
      },
      "outputs": [
        {
          "data": {
            "text/html": [
              "<div>\n",
              "<style scoped>\n",
              "    .dataframe tbody tr th:only-of-type {\n",
              "        vertical-align: middle;\n",
              "    }\n",
              "\n",
              "    .dataframe tbody tr th {\n",
              "        vertical-align: top;\n",
              "    }\n",
              "\n",
              "    .dataframe thead th {\n",
              "        text-align: right;\n",
              "    }\n",
              "</style>\n",
              "<table border=\"1\" class=\"dataframe\">\n",
              "  <thead>\n",
              "    <tr style=\"text-align: right;\">\n",
              "      <th></th>\n",
              "      <th>Member</th>\n",
              "      <th>Order</th>\n",
              "      <th>SKU</th>\n",
              "      <th>Created On</th>\n",
              "      <th>Description</th>\n",
              "    </tr>\n",
              "  </thead>\n",
              "  <tbody>\n",
              "    <tr>\n",
              "      <th>0</th>\n",
              "      <td>M09736</td>\n",
              "      <td>6468572</td>\n",
              "      <td>34993740</td>\n",
              "      <td>22-09-2014 22:45</td>\n",
              "      <td>Other Sauces</td>\n",
              "    </tr>\n",
              "    <tr>\n",
              "      <th>1</th>\n",
              "      <td>M09736</td>\n",
              "      <td>6468572</td>\n",
              "      <td>15669800</td>\n",
              "      <td>22-09-2014 22:45</td>\n",
              "      <td>Cashews</td>\n",
              "    </tr>\n",
              "    <tr>\n",
              "      <th>2</th>\n",
              "      <td>M09736</td>\n",
              "      <td>6468572</td>\n",
              "      <td>34989501</td>\n",
              "      <td>22-09-2014 22:45</td>\n",
              "      <td>Other Dals</td>\n",
              "    </tr>\n",
              "    <tr>\n",
              "      <th>3</th>\n",
              "      <td>M09736</td>\n",
              "      <td>6468572</td>\n",
              "      <td>7572303</td>\n",
              "      <td>22-09-2014 22:45</td>\n",
              "      <td>Namkeen</td>\n",
              "    </tr>\n",
              "    <tr>\n",
              "      <th>4</th>\n",
              "      <td>M09736</td>\n",
              "      <td>6468572</td>\n",
              "      <td>15669856</td>\n",
              "      <td>22-09-2014 22:45</td>\n",
              "      <td>Sugar</td>\n",
              "    </tr>\n",
              "  </tbody>\n",
              "</table>\n",
              "</div>"
            ],
            "text/plain": [
              "   Member    Order       SKU        Created On   Description\n",
              "0  M09736  6468572  34993740  22-09-2014 22:45  Other Sauces\n",
              "1  M09736  6468572  15669800  22-09-2014 22:45       Cashews\n",
              "2  M09736  6468572  34989501  22-09-2014 22:45    Other Dals\n",
              "3  M09736  6468572   7572303  22-09-2014 22:45       Namkeen\n",
              "4  M09736  6468572  15669856  22-09-2014 22:45         Sugar"
            ]
          },
          "execution_count": 36,
          "metadata": {},
          "output_type": "execute_result"
        }
      ],
      "source": [
        "bb_data.head()"
      ]
    },
    {
      "cell_type": "markdown",
      "id": "92791c2b",
      "metadata": {
        "id": "92791c2b"
      },
      "source": [
        "### Data Types"
      ]
    },
    {
      "cell_type": "code",
      "execution_count": null,
      "id": "9d786c38",
      "metadata": {
        "id": "9d786c38",
        "outputId": "74ee6c34-fca0-4c51-dac6-a842515cda9a"
      },
      "outputs": [
        {
          "data": {
            "text/plain": [
              "Member         object\n",
              "Order           int64\n",
              "SKU             int64\n",
              "Created On     object\n",
              "Description    object\n",
              "dtype: object"
            ]
          },
          "execution_count": 37,
          "metadata": {},
          "output_type": "execute_result"
        }
      ],
      "source": [
        "bb_data.dtypes"
      ]
    },
    {
      "cell_type": "code",
      "execution_count": null,
      "id": "7d1e003c",
      "metadata": {
        "id": "7d1e003c",
        "outputId": "80264dd9-4dd9-4b19-f648-eae29ebdcc03"
      },
      "outputs": [
        {
          "name": "stdout",
          "output_type": "stream",
          "text": [
            "<class 'pandas.core.frame.DataFrame'>\n",
            "RangeIndex: 62141 entries, 0 to 62140\n",
            "Data columns (total 5 columns):\n",
            " #   Column       Non-Null Count  Dtype \n",
            "---  ------       --------------  ----- \n",
            " 0   Member       62141 non-null  object\n",
            " 1   Order        62141 non-null  int64 \n",
            " 2   SKU          62141 non-null  int64 \n",
            " 3   Created On   62141 non-null  object\n",
            " 4   Description  62141 non-null  object\n",
            "dtypes: int64(2), object(3)\n",
            "memory usage: 2.4+ MB\n"
          ]
        }
      ],
      "source": [
        "bb_data.info()"
      ]
    },
    {
      "cell_type": "markdown",
      "id": "8ba7a563",
      "metadata": {
        "id": "8ba7a563"
      },
      "source": [
        "### There are no null values and no missing values."
      ]
    },
    {
      "cell_type": "code",
      "execution_count": null,
      "id": "b66f5fa5",
      "metadata": {
        "id": "b66f5fa5",
        "outputId": "886afb72-a69f-49c7-f832-857e5b859c43"
      },
      "outputs": [
        {
          "data": {
            "text/html": [
              "<div>\n",
              "<style scoped>\n",
              "    .dataframe tbody tr th:only-of-type {\n",
              "        vertical-align: middle;\n",
              "    }\n",
              "\n",
              "    .dataframe tbody tr th {\n",
              "        vertical-align: top;\n",
              "    }\n",
              "\n",
              "    .dataframe thead th {\n",
              "        text-align: right;\n",
              "    }\n",
              "</style>\n",
              "<table border=\"1\" class=\"dataframe\">\n",
              "  <thead>\n",
              "    <tr style=\"text-align: right;\">\n",
              "      <th></th>\n",
              "      <th>Member</th>\n",
              "      <th>Order</th>\n",
              "      <th>SKU</th>\n",
              "      <th>Description</th>\n",
              "    </tr>\n",
              "  </thead>\n",
              "  <tbody>\n",
              "    <tr>\n",
              "      <th>count</th>\n",
              "      <td>62141</td>\n",
              "      <td>62141</td>\n",
              "      <td>62141</td>\n",
              "      <td>62141</td>\n",
              "    </tr>\n",
              "    <tr>\n",
              "      <th>unique</th>\n",
              "      <td>106</td>\n",
              "      <td>8387</td>\n",
              "      <td>1732</td>\n",
              "      <td>216</td>\n",
              "    </tr>\n",
              "    <tr>\n",
              "      <th>top</th>\n",
              "      <td>M38622</td>\n",
              "      <td>6738016</td>\n",
              "      <td>15668381</td>\n",
              "      <td>Other Vegetables</td>\n",
              "    </tr>\n",
              "    <tr>\n",
              "      <th>freq</th>\n",
              "      <td>1438</td>\n",
              "      <td>42</td>\n",
              "      <td>1702</td>\n",
              "      <td>4606</td>\n",
              "    </tr>\n",
              "  </tbody>\n",
              "</table>\n",
              "</div>"
            ],
            "text/plain": [
              "        Member    Order       SKU       Description\n",
              "count    62141    62141     62141             62141\n",
              "unique     106     8387      1732               216\n",
              "top     M38622  6738016  15668381  Other Vegetables\n",
              "freq      1438       42      1702              4606"
            ]
          },
          "execution_count": 67,
          "metadata": {},
          "output_type": "execute_result"
        }
      ],
      "source": [
        "bb_data['SKU'] = bb_data['SKU'].astype('object')\n",
        "bb_data['Order'] = bb_data['Order'].astype('object')\n",
        "bb_data.describe(include = 'object')"
      ]
    },
    {
      "cell_type": "code",
      "execution_count": null,
      "id": "d7117a21",
      "metadata": {
        "id": "d7117a21",
        "outputId": "ddb5f896-5b65-4d85-ce37-af97d08a34b4"
      },
      "outputs": [
        {
          "data": {
            "text/plain": [
              "array(['15668381', '15668379', '15668378', '15668380', '15668383',\n",
              "       '15670107', '15668382'], dtype=object)"
            ]
          },
          "execution_count": 68,
          "metadata": {},
          "output_type": "execute_result"
        }
      ],
      "source": [
        "bb_data[bb_data['Description']=='Other Vegetables']['SKU'].unique()"
      ]
    },
    {
      "cell_type": "code",
      "execution_count": null,
      "id": "f6beac1f",
      "metadata": {
        "id": "f6beac1f",
        "outputId": "149835a4-f94f-4bb9-da57-b3b3c17c6479"
      },
      "outputs": [
        {
          "data": {
            "text/plain": [
              "SKU\n",
              "15668381    1702\n",
              "15668688    1540\n",
              "15668460    1439\n",
              "15668379    1415\n",
              "15668478    1252\n",
              "            ... \n",
              "34994247       1\n",
              "34934321       1\n",
              "34992292       1\n",
              "34930814       1\n",
              "34990383       1\n",
              "Name: count, Length: 1732, dtype: int64"
            ]
          },
          "execution_count": 40,
          "metadata": {},
          "output_type": "execute_result"
        }
      ],
      "source": [
        "bb_data[\"SKU\"].value_counts()"
      ]
    },
    {
      "cell_type": "code",
      "execution_count": null,
      "id": "f248d885",
      "metadata": {
        "id": "f248d885",
        "outputId": "e7c475dd-3f9c-47ab-fcef-1decb67734ec"
      },
      "outputs": [
        {
          "data": {
            "text/plain": [
              "array(['Other Sauces', 'Cashews', 'Other Dals', 'Namkeen', 'Sugar',\n",
              "       'Banana', 'Sugar Cubes', 'Other Sweets', 'Other Rice Products',\n",
              "       'Utensil Scrub Pads', 'Toor Dal', 'Buns & Pavs', 'Cakes',\n",
              "       'Boiled Rice', 'Urad Dal', 'Jaggery', 'Raisins', 'Chips',\n",
              "       'Almonds', 'Root Vegetables', 'Other Vegetables', 'Moong Dal',\n",
              "       'Healthy Snacks', 'Raw Peanuts', 'Mosquito Repellent',\n",
              "       'Whole Spices', 'Soya Products', 'Beans', 'Health Drinks',\n",
              "       'Liquid Soaps & Bars', 'Washing Bars', 'Ghee', 'Organic F&V',\n",
              "       'Sunflower Oils', 'Shoe Polish', 'Cream Biscuits', 'Cookies',\n",
              "       'Snacky Nuts', 'Avalakki / Poha', 'Besan', 'Raw Rice',\n",
              "       'Powdered Spices', 'Eggs', 'Corn Snacks', 'Bread',\n",
              "       'Instant Noodles', 'Sooji & Rava', 'Gourd & Cucumber',\n",
              "       'Shaving Cream, Foam & Gels', 'Brinjals', 'Hair Oil',\n",
              "       'Ground Coffee', 'Other Dry Fruits', 'Basmati Rice', 'Face Wash',\n",
              "       'Yogurt & Lassi', 'Wafers', 'Instant Pastas', 'Cooking Paste',\n",
              "       'Other Flours', 'Shaving Brush', 'Chilli & Soya Sauces',\n",
              "       'Vermicelli', 'Glucose, Marie & Milk Biscuits', 'Diapers & Wipes',\n",
              "       'Tomato Ketchup', 'Organic Rice & Rice Products', 'Other Oils',\n",
              "       'Hair Conditioner', 'Other Insect Repellent', 'Cut Vegetables',\n",
              "       'Health Supplements', 'Other Pooja Needs', 'Cleaning & Dust Cloth',\n",
              "       'Rice Flour', 'Maida', 'Organic Flours', 'Regular Pasta',\n",
              "       'Organic Salt,Sugar & Jaggery', 'Bottle & Tin Openers',\n",
              "       'Whole Grains', 'Hand Wash', 'Exotic Vegetables', 'Shampoo',\n",
              "       'Chinese Noodles', 'Olive Oils', 'Liquid Detergent',\n",
              "       'Hair Colors & Dyes', 'Shaving Blade & Razors',\n",
              "       'Ice Creams & Desserts', 'Vinegar', 'Ladles & Spatulas',\n",
              "       'Ready Mix', 'Aluminium Foil & Cling Wrap',\n",
              "       'Muffins, Cookies & Rusk', 'Packaged Drinking Water', 'Agarbatti',\n",
              "       'Bakery & Breads', 'Other Spreads', 'Face Cream',\n",
              "       'Healthy & Digestive Biscuits', 'Face Packs & Scrubs', 'Curd',\n",
              "       'Cotton & Bandages', 'Oats', 'Honey', 'Toothpaste',\n",
              "       'Organic Masalas & Spices', 'Rodent Control', 'Butter & Cream',\n",
              "       'Ready Baking Mixes', 'Frozen Seafood', 'Mango Juices',\n",
              "       'Pasta & Noodles', 'Biscuits', 'Ready To Eat & Cook',\n",
              "       'Milk Drinks', 'Tissue Paper & Napkins', 'Lip Care',\n",
              "       'Organic Dals & Pulses', 'Rasagulla & Gulab Jamun',\n",
              "       'Facial Tissues', 'Milk', 'Salty Biscuits', 'Ice Cream',\n",
              "       'Cooking Sauce', 'Organic Dry Fruits', 'Veg & Fruit',\n",
              "       'Phenyles & Acids', 'Mustard Oils', 'Home & Air Freshener',\n",
              "       'Pain Relievers', 'Organic Branded Foods', 'Flakes', 'Mouthwash',\n",
              "       'Mens Deo', 'Toilet Cleaners', 'Jams & Sauces', 'Ayurvedic',\n",
              "       'Soup', 'Ayurvedic Food', 'Sanitary Pads', 'Cutlery',\n",
              "       'Tomato Sauce', 'Vanaspati', 'Other Jams', 'Pet Food',\n",
              "       'Hand Sanitizer', 'Floor Cleaners', 'Frozen Veg Food',\n",
              "       'Pre & Post Wash Care', 'Baking Ingredients', 'Glass Cleaners',\n",
              "       'CFLs,cfls,7832553,2,0\\r\\n7831582,Channa Dal,channa-dal,7832491,2,0\\r\\n7832360,Cheese,cheese,7832363,2,0\\r\\n7831689,Chewing Gum,chewing-gum,7831685,2,0\\r\\n7832047,ChildrenS Books',\n",
              "       'Frozen Chicken', 'Toilet Cleaning', 'Brushes & Scrubbers',\n",
              "       'Brooms & Dust Pans', 'Toffee & Candy', 'Energy Drinks',\n",
              "       'Other Pickle', 'Buttermilk', 'Other Juices', 'Other Soft Drinks',\n",
              "       'Car Shampoo & Wax', 'Antiseptics', 'Grooming', 'Energy Powders',\n",
              "       'Organic Juices', 'Soups', 'Baby Cereal', 'Baby Care Accessories',\n",
              "       'Beverages', 'Foot Care', 'Snacks & Sweets', 'Organic Baby Foods',\n",
              "       'Exam Boards', 'Car Freshener', 'Scissors, Glue & Tape',\n",
              "       'Womens Deo', 'Office Stationery', 'Ready Masalas', 'Body Wash',\n",
              "       'Fertilizers & Pesticides', 'Paneer & Tofu',\n",
              "       'Organic Breakfast Cereals', 'Green Tea', 'Drain Cleaners',\n",
              "       'Toilet Paper', 'Groundnut Oils', 'Mixed Fruit Jam',\n",
              "       'Fryums & Papad', 'Disposable Plates & Utensils', 'Containers',\n",
              "       'Colours ', 'Cutters, Peelers & Scrapers', 'Battery', 'Chocolate',\n",
              "       'Tea', 'Festive Gift Packs', 'Organic Edible Oils & Ghee',\n",
              "       'After Shave', 'Dairy & Cheese', 'Heat & Eat Ready Meals',\n",
              "       'Festive Gift Pack', 'Mukhwas & Mouth Freshener', 'Sanitary Aids',\n",
              "       'Pens ', 'Mango Pickle', 'Magazine',\n",
              "       'Printer Cartridges & Printing Paper', 'Body Lotion', 'Talc',\n",
              "       'Eye Care & Kajal', 'Cookery Books', 'Dishwash Liquids & Pastes'],\n",
              "      dtype=object)"
            ]
          },
          "execution_count": 69,
          "metadata": {},
          "output_type": "execute_result"
        }
      ],
      "source": [
        "bb_data['Description'].unique()"
      ]
    },
    {
      "cell_type": "code",
      "execution_count": null,
      "id": "877ec3f0",
      "metadata": {
        "id": "877ec3f0"
      },
      "outputs": [],
      "source": [
        "bb_data = bb_data [~ bb_data['Description'].isin(['CFLs,cfls,7832553,2,0\\r\\n7831582,Channa Dal,channa-dal,7832491,2,0\\r\\n7832360,Cheese,cheese,7832363,2,0\\r\\n7831689,Chewing Gum,chewing-gum,7831685,2,0\\r\\n7832047,ChildrenS Books'])]"
      ]
    },
    {
      "cell_type": "code",
      "execution_count": null,
      "id": "66421d2f",
      "metadata": {
        "id": "66421d2f",
        "outputId": "8a3bd48f-1df6-4ba0-8071-3d87de3e2138"
      },
      "outputs": [
        {
          "data": {
            "text/plain": [
              "array(['Other Sauces', 'Cashews', 'Other Dals', 'Namkeen', 'Sugar',\n",
              "       'Banana', 'Sugar Cubes', 'Other Sweets', 'Other Rice Products',\n",
              "       'Utensil Scrub Pads', 'Toor Dal', 'Buns & Pavs', 'Cakes',\n",
              "       'Boiled Rice', 'Urad Dal', 'Jaggery', 'Raisins', 'Chips',\n",
              "       'Almonds', 'Root Vegetables', 'Other Vegetables', 'Moong Dal',\n",
              "       'Healthy Snacks', 'Raw Peanuts', 'Mosquito Repellent',\n",
              "       'Whole Spices', 'Soya Products', 'Beans', 'Health Drinks',\n",
              "       'Liquid Soaps & Bars', 'Washing Bars', 'Ghee', 'Organic F&V',\n",
              "       'Sunflower Oils', 'Shoe Polish', 'Cream Biscuits', 'Cookies',\n",
              "       'Snacky Nuts', 'Avalakki / Poha', 'Besan', 'Raw Rice',\n",
              "       'Powdered Spices', 'Eggs', 'Corn Snacks', 'Bread',\n",
              "       'Instant Noodles', 'Sooji & Rava', 'Gourd & Cucumber',\n",
              "       'Shaving Cream, Foam & Gels', 'Brinjals', 'Hair Oil',\n",
              "       'Ground Coffee', 'Other Dry Fruits', 'Basmati Rice', 'Face Wash',\n",
              "       'Yogurt & Lassi', 'Wafers', 'Instant Pastas', 'Cooking Paste',\n",
              "       'Other Flours', 'Shaving Brush', 'Chilli & Soya Sauces',\n",
              "       'Vermicelli', 'Glucose, Marie & Milk Biscuits', 'Diapers & Wipes',\n",
              "       'Tomato Ketchup', 'Organic Rice & Rice Products', 'Other Oils',\n",
              "       'Hair Conditioner', 'Other Insect Repellent', 'Cut Vegetables',\n",
              "       'Health Supplements', 'Other Pooja Needs', 'Cleaning & Dust Cloth',\n",
              "       'Rice Flour', 'Maida', 'Organic Flours', 'Regular Pasta',\n",
              "       'Organic Salt,Sugar & Jaggery', 'Bottle & Tin Openers',\n",
              "       'Whole Grains', 'Hand Wash', 'Exotic Vegetables', 'Shampoo',\n",
              "       'Chinese Noodles', 'Olive Oils', 'Liquid Detergent',\n",
              "       'Hair Colors & Dyes', 'Shaving Blade & Razors',\n",
              "       'Ice Creams & Desserts', 'Vinegar', 'Ladles & Spatulas',\n",
              "       'Ready Mix', 'Aluminium Foil & Cling Wrap',\n",
              "       'Muffins, Cookies & Rusk', 'Packaged Drinking Water', 'Agarbatti',\n",
              "       'Bakery & Breads', 'Other Spreads', 'Face Cream',\n",
              "       'Healthy & Digestive Biscuits', 'Face Packs & Scrubs', 'Curd',\n",
              "       'Cotton & Bandages', 'Oats', 'Honey', 'Toothpaste',\n",
              "       'Organic Masalas & Spices', 'Rodent Control', 'Butter & Cream',\n",
              "       'Ready Baking Mixes', 'Frozen Seafood', 'Mango Juices',\n",
              "       'Pasta & Noodles', 'Biscuits', 'Ready To Eat & Cook',\n",
              "       'Milk Drinks', 'Tissue Paper & Napkins', 'Lip Care',\n",
              "       'Organic Dals & Pulses', 'Rasagulla & Gulab Jamun',\n",
              "       'Facial Tissues', 'Milk', 'Salty Biscuits', 'Ice Cream',\n",
              "       'Cooking Sauce', 'Organic Dry Fruits', 'Veg & Fruit',\n",
              "       'Phenyles & Acids', 'Mustard Oils', 'Home & Air Freshener',\n",
              "       'Pain Relievers', 'Organic Branded Foods', 'Flakes', 'Mouthwash',\n",
              "       'Mens Deo', 'Toilet Cleaners', 'Jams & Sauces', 'Ayurvedic',\n",
              "       'Soup', 'Ayurvedic Food', 'Sanitary Pads', 'Cutlery',\n",
              "       'Tomato Sauce', 'Vanaspati', 'Other Jams', 'Pet Food',\n",
              "       'Hand Sanitizer', 'Floor Cleaners', 'Frozen Veg Food',\n",
              "       'Pre & Post Wash Care', 'Baking Ingredients', 'Glass Cleaners',\n",
              "       'Frozen Chicken', 'Toilet Cleaning', 'Brushes & Scrubbers',\n",
              "       'Brooms & Dust Pans', 'Toffee & Candy', 'Energy Drinks',\n",
              "       'Other Pickle', 'Buttermilk', 'Other Juices', 'Other Soft Drinks',\n",
              "       'Car Shampoo & Wax', 'Antiseptics', 'Grooming', 'Energy Powders',\n",
              "       'Organic Juices', 'Soups', 'Baby Cereal', 'Baby Care Accessories',\n",
              "       'Beverages', 'Foot Care', 'Snacks & Sweets', 'Organic Baby Foods',\n",
              "       'Exam Boards', 'Car Freshener', 'Scissors, Glue & Tape',\n",
              "       'Womens Deo', 'Office Stationery', 'Ready Masalas', 'Body Wash',\n",
              "       'Fertilizers & Pesticides', 'Paneer & Tofu',\n",
              "       'Organic Breakfast Cereals', 'Green Tea', 'Drain Cleaners',\n",
              "       'Toilet Paper', 'Groundnut Oils', 'Mixed Fruit Jam',\n",
              "       'Fryums & Papad', 'Disposable Plates & Utensils', 'Containers',\n",
              "       'Colours ', 'Cutters, Peelers & Scrapers', 'Battery', 'Chocolate',\n",
              "       'Tea', 'Festive Gift Packs', 'Organic Edible Oils & Ghee',\n",
              "       'After Shave', 'Dairy & Cheese', 'Heat & Eat Ready Meals',\n",
              "       'Festive Gift Pack', 'Mukhwas & Mouth Freshener', 'Sanitary Aids',\n",
              "       'Pens ', 'Mango Pickle', 'Magazine',\n",
              "       'Printer Cartridges & Printing Paper', 'Body Lotion', 'Talc',\n",
              "       'Eye Care & Kajal', 'Cookery Books', 'Dishwash Liquids & Pastes'],\n",
              "      dtype=object)"
            ]
          },
          "execution_count": 71,
          "metadata": {},
          "output_type": "execute_result"
        }
      ],
      "source": [
        "bb_data['Description'].unique()"
      ]
    },
    {
      "cell_type": "code",
      "execution_count": null,
      "id": "772c869e",
      "metadata": {
        "id": "772c869e",
        "outputId": "db5411f1-a0a8-47a5-b531-fa3a0e276b45"
      },
      "outputs": [
        {
          "data": {
            "text/plain": [
              "Index(['Member', 'Order', 'SKU', 'Created On', 'Description'], dtype='object')"
            ]
          },
          "execution_count": 42,
          "metadata": {},
          "output_type": "execute_result"
        }
      ],
      "source": [
        "bb_data.columns"
      ]
    },
    {
      "cell_type": "code",
      "execution_count": null,
      "id": "6f2ebff0",
      "metadata": {
        "id": "6f2ebff0",
        "outputId": "5804a6bf-f4d2-4816-93ae-da58c294f71c"
      },
      "outputs": [
        {
          "data": {
            "text/html": [
              "<div>\n",
              "<style scoped>\n",
              "    .dataframe tbody tr th:only-of-type {\n",
              "        vertical-align: middle;\n",
              "    }\n",
              "\n",
              "    .dataframe tbody tr th {\n",
              "        vertical-align: top;\n",
              "    }\n",
              "\n",
              "    .dataframe thead th {\n",
              "        text-align: right;\n",
              "    }\n",
              "</style>\n",
              "<table border=\"1\" class=\"dataframe\">\n",
              "  <thead>\n",
              "    <tr style=\"text-align: right;\">\n",
              "      <th></th>\n",
              "      <th>SKU</th>\n",
              "      <th>Description</th>\n",
              "      <th>count</th>\n",
              "    </tr>\n",
              "  </thead>\n",
              "  <tbody>\n",
              "    <tr>\n",
              "      <th>0</th>\n",
              "      <td>15668381</td>\n",
              "      <td>Other Vegetables</td>\n",
              "      <td>1702</td>\n",
              "    </tr>\n",
              "    <tr>\n",
              "      <th>1</th>\n",
              "      <td>15668688</td>\n",
              "      <td>Root Vegetables</td>\n",
              "      <td>1540</td>\n",
              "    </tr>\n",
              "    <tr>\n",
              "      <th>2</th>\n",
              "      <td>15668460</td>\n",
              "      <td>Gourd &amp; Cucumber</td>\n",
              "      <td>1439</td>\n",
              "    </tr>\n",
              "    <tr>\n",
              "      <th>3</th>\n",
              "      <td>15668379</td>\n",
              "      <td>Other Vegetables</td>\n",
              "      <td>1415</td>\n",
              "    </tr>\n",
              "    <tr>\n",
              "      <th>4</th>\n",
              "      <td>15668478</td>\n",
              "      <td>Banana</td>\n",
              "      <td>1252</td>\n",
              "    </tr>\n",
              "    <tr>\n",
              "      <th>5</th>\n",
              "      <td>15668468</td>\n",
              "      <td>Beans</td>\n",
              "      <td>1137</td>\n",
              "    </tr>\n",
              "    <tr>\n",
              "      <th>6</th>\n",
              "      <td>15668378</td>\n",
              "      <td>Other Vegetables</td>\n",
              "      <td>1003</td>\n",
              "    </tr>\n",
              "    <tr>\n",
              "      <th>7</th>\n",
              "      <td>15668467</td>\n",
              "      <td>Beans</td>\n",
              "      <td>963</td>\n",
              "    </tr>\n",
              "    <tr>\n",
              "      <th>8</th>\n",
              "      <td>15668416</td>\n",
              "      <td>Banana</td>\n",
              "      <td>936</td>\n",
              "    </tr>\n",
              "    <tr>\n",
              "      <th>9</th>\n",
              "      <td>15668465</td>\n",
              "      <td>Root Vegetables</td>\n",
              "      <td>923</td>\n",
              "    </tr>\n",
              "  </tbody>\n",
              "</table>\n",
              "</div>"
            ],
            "text/plain": [
              "        SKU       Description  count\n",
              "0  15668381  Other Vegetables   1702\n",
              "1  15668688   Root Vegetables   1540\n",
              "2  15668460  Gourd & Cucumber   1439\n",
              "3  15668379  Other Vegetables   1415\n",
              "4  15668478            Banana   1252\n",
              "5  15668468             Beans   1137\n",
              "6  15668378  Other Vegetables   1003\n",
              "7  15668467             Beans    963\n",
              "8  15668416            Banana    936\n",
              "9  15668465   Root Vegetables    923"
            ]
          },
          "execution_count": 43,
          "metadata": {},
          "output_type": "execute_result"
        }
      ],
      "source": [
        "top_10 = pd.DataFrame(bb_data[['SKU','Description']].value_counts().head(10)).reset_index()\n",
        "top_10.columns = ['SKU','Description', 'count']\n",
        "top_10"
      ]
    },
    {
      "cell_type": "code",
      "execution_count": null,
      "id": "d4dc46c0",
      "metadata": {
        "id": "d4dc46c0",
        "outputId": "34b1ae63-4efd-4de1-9a48-a911b6f00fa4"
      },
      "outputs": [
        {
          "data": {
            "image/png": "[encoded data removed]",
            "text/plain": [
              "<Figure size 1200x800 with 1 Axes>"
            ]
          },
          "metadata": {},
          "output_type": "display_data"
        }
      ],
      "source": [
        "top_10_df = top_10\n",
        "\n",
        "top_10_df['Product'] = top_10['SKU'].astype(str) + ' - ' + top_10['Description']\n",
        "\n",
        "# Plotting\n",
        "plt.figure(figsize=(12, 8))\n",
        "plt.barh(top_10_df['Product'], top_10_df['count'], color='skyblue')\n",
        "plt.xlabel('Count')\n",
        "plt.ylabel('Products')\n",
        "plt.title('Top 10 Sold Products')\n",
        "plt.gca().invert_yaxis()  # To display the highest value on top\n",
        "plt.show()"
      ]
    },
    {
      "cell_type": "code",
      "execution_count": null,
      "id": "b0908bba",
      "metadata": {
        "id": "b0908bba",
        "outputId": "2e62376a-07b2-48b8-d4f2-a708be41d8ba"
      },
      "outputs": [
        {
          "name": "stdout",
          "output_type": "stream",
          "text": [
            "Number of items per order:\n",
            "Order\n",
            "6422558     9\n",
            "6422636    11\n",
            "6423338    12\n",
            "6423534     4\n",
            "6423959     4\n",
            "           ..\n",
            "8387964     3\n",
            "8387967     6\n",
            "8388196     7\n",
            "8388442    24\n",
            "8388492    13\n",
            "Name: SKU, Length: 8387, dtype: int64\n",
            "\n",
            "Average number of items per order: 7.409204721592942\n"
          ]
        }
      ],
      "source": [
        "items_per_order = bb_data.groupby('Order')['SKU'].count()\n",
        "\n",
        "average_items_per_order = items_per_order.mean()\n",
        "\n",
        "print(\"Number of items per order:\")\n",
        "print(items_per_order)\n",
        "print(\"\\nAverage number of items per order:\", average_items_per_order)"
      ]
    },
    {
      "cell_type": "code",
      "execution_count": null,
      "id": "0b87df63",
      "metadata": {
        "id": "0b87df63",
        "outputId": "a356a290-db7f-47d8-eae1-ecfad8e5685d"
      },
      "outputs": [
        {
          "data": {
            "text/plain": [
              "0        22-09-2014 22:45\n",
              "1        22-09-2014 22:45\n",
              "2        22-09-2014 22:45\n",
              "3        22-09-2014 22:45\n",
              "4        22-09-2014 22:45\n",
              "               ...       \n",
              "62136    16-11-2013 00:43\n",
              "62137    16-11-2013 00:43\n",
              "62138    16-11-2013 00:43\n",
              "62139    16-11-2013 00:43\n",
              "62140    16-11-2013 00:43\n",
              "Name: Created On, Length: 62141, dtype: object"
            ]
          },
          "execution_count": 51,
          "metadata": {},
          "output_type": "execute_result"
        }
      ],
      "source": [
        "bb_data['Created On']"
      ]
    },
    {
      "cell_type": "code",
      "execution_count": null,
      "id": "a1620ffd",
      "metadata": {
        "id": "a1620ffd"
      },
      "outputs": [],
      "source": [
        "bb_data['Created On'] = pd.to_datetime(bb_data['Created On'], format='mixed')"
      ]
    },
    {
      "cell_type": "code",
      "execution_count": null,
      "id": "15adafa0",
      "metadata": {
        "id": "15adafa0",
        "outputId": "87265f68-6741-4481-b3be-79abb2f374a4"
      },
      "outputs": [
        {
          "data": {
            "image/png": "[encoded data removed]",
            "text/plain": [
              "<Figure size 1000x600 with 1 Axes>"
            ]
          },
          "metadata": {},
          "output_type": "display_data"
        }
      ],
      "source": [
        "orders_per_day = bb_data.groupby(bb_data['Created On'].dt.date)['Order'].count()\n",
        "\n",
        "# Plotting\n",
        "plt.figure(figsize=(10, 6))\n",
        "orders_per_day.plot(kind='bar', color='skyblue')\n",
        "plt.title('Number of Orders Per Day')\n",
        "plt.xlabel('Date')\n",
        "plt.ylabel('Number of Orders')\n",
        "plt.xticks(rotation=90)\n",
        "plt.grid(axis='y', linestyle='--', alpha=0.7)\n",
        "plt.tight_layout()\n",
        "plt.show()"
      ]
    },
    {
      "cell_type": "code",
      "execution_count": null,
      "id": "1ac499de",
      "metadata": {
        "id": "1ac499de",
        "outputId": "6a9cd407-41f2-4ad7-eea7-3a8a9904ca76"
      },
      "outputs": [
        {
          "data": {
            "image/png": "[encoded data removed]",
            "text/plain": [
              "<Figure size 1000x600 with 1 Axes>"
            ]
          },
          "metadata": {},
          "output_type": "display_data"
        }
      ],
      "source": [
        "orders_per_month = bb_data.groupby(bb_data['Created On'].dt.to_period('M'))['Order'].count()\n",
        "\n",
        "# Plotting\n",
        "plt.figure(figsize=(10, 6))\n",
        "orders_per_month.plot(kind='bar', color='skyblue')\n",
        "plt.title('Number of Orders Per Month')\n",
        "plt.xlabel('Month')\n",
        "plt.ylabel('Number of Orders')\n",
        "plt.xticks(rotation=45)\n",
        "plt.grid(axis='y', linestyle='--', alpha=0.7)\n",
        "plt.tight_layout()\n",
        "plt.show()"
      ]
    },
    {
      "cell_type": "code",
      "execution_count": null,
      "id": "d8918bba",
      "metadata": {
        "id": "d8918bba",
        "outputId": "d7ca77d7-8995-484f-b78b-8d3d25751983"
      },
      "outputs": [
        {
          "name": "stdout",
          "output_type": "stream",
          "text": [
            "Year  Description     \n",
            "2011  Other Vegetables      21\n",
            "      Beans                 15\n",
            "      Root Vegetables       15\n",
            "      Brinjals              11\n",
            "      Gourd & Cucumber      11\n",
            "      Bread                 10\n",
            "      Banana                 5\n",
            "      Cream Biscuits         3\n",
            "      Diapers & Wipes        3\n",
            "      Ground Coffee          3\n",
            "2012  Beans                930\n",
            "      Root Vegetables      747\n",
            "      Other Vegetables     734\n",
            "      Gourd & Cucumber     557\n",
            "      Brinjals             499\n",
            "      Other Dals           466\n",
            "      Organic F&V          398\n",
            "      Banana               345\n",
            "      Bread                285\n",
            "      Whole Spices         270\n",
            "2013  Beans               2131\n",
            "      Organic F&V         2096\n",
            "      Other Vegetables    2064\n",
            "      Root Vegetables     1843\n",
            "      Other Dals          1460\n",
            "      Gourd & Cucumber    1384\n",
            "      Whole Spices        1319\n",
            "      Brinjals            1268\n",
            "      Namkeen              969\n",
            "      Banana               940\n",
            "2014  Other Vegetables    1787\n",
            "      Root Vegetables     1698\n",
            "      Beans               1473\n",
            "      Whole Spices        1412\n",
            "      Other Dals          1346\n",
            "      Gourd & Cucumber    1021\n",
            "      Namkeen              997\n",
            "      Banana               898\n",
            "      Brinjals             791\n",
            "      Organic F&V          619\n",
            "Name: Order, dtype: int64\n"
          ]
        }
      ],
      "source": [
        "bb_data['Year'] = bb_data['Created On'].dt.year\n",
        "\n",
        "# Group by year and product, count the number of orders\n",
        "year_product_counts = bb_data.groupby(['Year', 'Description'])['Order'].count()\n",
        "\n",
        "# Find the top 10 products for each year\n",
        "top_products_by_year = year_product_counts.groupby('Year').nlargest(10).reset_index(level=0, drop=True)\n",
        "\n",
        "print(top_products_by_year)"
      ]
    },
    {
      "cell_type": "code",
      "execution_count": null,
      "id": "2d5aa6e3",
      "metadata": {
        "id": "2d5aa6e3",
        "outputId": "821193a8-550d-43bf-d2d5-1386c1d75f06"
      },
      "outputs": [
        {
          "data": {
            "text/html": [
              "<div>\n",
              "<style scoped>\n",
              "    .dataframe tbody tr th:only-of-type {\n",
              "        vertical-align: middle;\n",
              "    }\n",
              "\n",
              "    .dataframe tbody tr th {\n",
              "        vertical-align: top;\n",
              "    }\n",
              "\n",
              "    .dataframe thead th {\n",
              "        text-align: right;\n",
              "    }\n",
              "</style>\n",
              "<table border=\"1\" class=\"dataframe\">\n",
              "  <thead>\n",
              "    <tr style=\"text-align: right;\">\n",
              "      <th></th>\n",
              "      <th>Member</th>\n",
              "      <th>Order</th>\n",
              "      <th>SKU</th>\n",
              "      <th>Created On</th>\n",
              "      <th>Description</th>\n",
              "    </tr>\n",
              "  </thead>\n",
              "  <tbody>\n",
              "    <tr>\n",
              "      <th>0</th>\n",
              "      <td>M09736</td>\n",
              "      <td>6468572</td>\n",
              "      <td>34993740</td>\n",
              "      <td>22-09-2014 22:45</td>\n",
              "      <td>Other Sauces</td>\n",
              "    </tr>\n",
              "    <tr>\n",
              "      <th>1</th>\n",
              "      <td>M09736</td>\n",
              "      <td>6468572</td>\n",
              "      <td>15669800</td>\n",
              "      <td>22-09-2014 22:45</td>\n",
              "      <td>Cashews</td>\n",
              "    </tr>\n",
              "    <tr>\n",
              "      <th>2</th>\n",
              "      <td>M09736</td>\n",
              "      <td>6468572</td>\n",
              "      <td>34989501</td>\n",
              "      <td>22-09-2014 22:45</td>\n",
              "      <td>Other Dals</td>\n",
              "    </tr>\n",
              "    <tr>\n",
              "      <th>3</th>\n",
              "      <td>M09736</td>\n",
              "      <td>6468572</td>\n",
              "      <td>7572303</td>\n",
              "      <td>22-09-2014 22:45</td>\n",
              "      <td>Namkeen</td>\n",
              "    </tr>\n",
              "    <tr>\n",
              "      <th>4</th>\n",
              "      <td>M09736</td>\n",
              "      <td>6468572</td>\n",
              "      <td>15669856</td>\n",
              "      <td>22-09-2014 22:45</td>\n",
              "      <td>Sugar</td>\n",
              "    </tr>\n",
              "  </tbody>\n",
              "</table>\n",
              "</div>"
            ],
            "text/plain": [
              "   Member    Order       SKU        Created On   Description\n",
              "0  M09736  6468572  34993740  22-09-2014 22:45  Other Sauces\n",
              "1  M09736  6468572  15669800  22-09-2014 22:45       Cashews\n",
              "2  M09736  6468572  34989501  22-09-2014 22:45    Other Dals\n",
              "3  M09736  6468572   7572303  22-09-2014 22:45       Namkeen\n",
              "4  M09736  6468572  15669856  22-09-2014 22:45         Sugar"
            ]
          },
          "execution_count": 98,
          "metadata": {},
          "output_type": "execute_result"
        }
      ],
      "source": [
        "bb_data = pd.read_csv(\"IMB575 (Customer Analytics at Bigbasket - Product Recommendations, Spreadsheet).csv\")\n",
        "bb_data.head()"
      ]
    },
    {
      "cell_type": "markdown",
      "source": [
        "## This cell defines a function apriori_recommender that uses the apriori algorithm to generate association rules from transaction data."
      ],
      "metadata": {
        "id": "lzIQZfAOUpiA"
      },
      "id": "lzIQZfAOUpiA"
    },
    {
      "cell_type": "code",
      "execution_count": null,
      "id": "bb57a191",
      "metadata": {
        "id": "bb57a191"
      },
      "outputs": [],
      "source": [
        "def apriori_recommender(df, member_id, min_support, top):\n",
        "\n",
        "    df_member = df[df['Member'] == member_id]\n",
        "\n",
        "    basket = (df_member.groupby(['Order', 'Description'])['Description'].count().unstack().reset_index().fillna(0).set_index('Order'))\n",
        "\n",
        "    basket_sets = basket.applymap(lambda x: 1 if x > 0 else 0)\n",
        "\n",
        "    frequent_itemsets = apriori(basket_sets, min_support=min_support, use_colnames=True)\n",
        "    frequent_itemsets.sort_values(['support'], ascending=False, inplace=True)\n",
        "\n",
        "    rules = association_rules(frequent_itemsets, metric=\"lift\", min_threshold=0.5)\n",
        "    rules.sort_values(['lift', 'support'], ascending=False, inplace=True)\n",
        "    rules.reset_index(drop=True, inplace=True)\n",
        "\n",
        "    recommendations = rules.loc[:, ['antecedents', 'consequents', 'antecedent support', 'consequent support', 'confidence', 'lift']]\n",
        "    return recommendations.head(top)"
      ]
    },
    {
      "cell_type": "code",
      "execution_count": null,
      "id": "a539fcca",
      "metadata": {
        "id": "a539fcca",
        "outputId": "b705104f-a6d5-441f-d4cd-df56b0f785d1"
      },
      "outputs": [
        {
          "name": "stderr",
          "output_type": "stream",
          "text": [
            "C:\\Users\\91967\\anaconda3\\Lib\\site-packages\\mlxtend\\frequent_patterns\\fpcommon.py:109: DeprecationWarning: DataFrames with non-bool types result in worse computationalperformance and their support might be discontinued in the future.Please use a DataFrame with bool type\n",
            "  warnings.warn(\n"
          ]
        },
        {
          "data": {
            "text/html": [
              "<div>\n",
              "<style scoped>\n",
              "    .dataframe tbody tr th:only-of-type {\n",
              "        vertical-align: middle;\n",
              "    }\n",
              "\n",
              "    .dataframe tbody tr th {\n",
              "        vertical-align: top;\n",
              "    }\n",
              "\n",
              "    .dataframe thead th {\n",
              "        text-align: right;\n",
              "    }\n",
              "</style>\n",
              "<table border=\"1\" class=\"dataframe\">\n",
              "  <thead>\n",
              "    <tr style=\"text-align: right;\">\n",
              "      <th></th>\n",
              "      <th>antecedents</th>\n",
              "      <th>consequents</th>\n",
              "      <th>antecedent support</th>\n",
              "      <th>consequent support</th>\n",
              "      <th>confidence</th>\n",
              "      <th>lift</th>\n",
              "    </tr>\n",
              "  </thead>\n",
              "  <tbody>\n",
              "    <tr>\n",
              "      <th>0</th>\n",
              "      <td>(Gourd &amp; Cucumber)</td>\n",
              "      <td>(Brinjals)</td>\n",
              "      <td>0.300493</td>\n",
              "      <td>0.182266</td>\n",
              "      <td>0.409836</td>\n",
              "      <td>2.248560</td>\n",
              "    </tr>\n",
              "    <tr>\n",
              "      <th>1</th>\n",
              "      <td>(Brinjals)</td>\n",
              "      <td>(Gourd &amp; Cucumber)</td>\n",
              "      <td>0.182266</td>\n",
              "      <td>0.300493</td>\n",
              "      <td>0.675676</td>\n",
              "      <td>2.248560</td>\n",
              "    </tr>\n",
              "    <tr>\n",
              "      <th>2</th>\n",
              "      <td>(Other Vegetables)</td>\n",
              "      <td>(Beans)</td>\n",
              "      <td>0.261084</td>\n",
              "      <td>0.192118</td>\n",
              "      <td>0.396226</td>\n",
              "      <td>2.062409</td>\n",
              "    </tr>\n",
              "  </tbody>\n",
              "</table>\n",
              "</div>"
            ],
            "text/plain": [
              "          antecedents         consequents  antecedent support  \\\n",
              "0  (Gourd & Cucumber)          (Brinjals)            0.300493   \n",
              "1          (Brinjals)  (Gourd & Cucumber)            0.182266   \n",
              "2  (Other Vegetables)             (Beans)            0.261084   \n",
              "\n",
              "   consequent support  confidence      lift  \n",
              "0            0.182266    0.409836  2.248560  \n",
              "1            0.300493    0.675676  2.248560  \n",
              "2            0.192118    0.396226  2.062409  "
            ]
          },
          "execution_count": 111,
          "metadata": {},
          "output_type": "execute_result"
        }
      ],
      "source": [
        "apriori_recommender(bb_data, 'M36432', 0.1, 3)"
      ]
    },
    {
      "cell_type": "markdown",
      "source": [
        "## This cell defines a function cosine_missing that generates product recommendations based on cosine similarity."
      ],
      "metadata": {
        "id": "f-Hea-g7UyRI"
      },
      "id": "f-Hea-g7UyRI"
    },
    {
      "cell_type": "code",
      "execution_count": null,
      "id": "c39fcd7a",
      "metadata": {
        "id": "c39fcd7a"
      },
      "outputs": [],
      "source": [
        "def cosine_missing(df, order_id, top):\n",
        "    basket = (df.groupby(['Order', 'Description'])['Description'].count().unstack().reset_index().fillna(0).set_index('Order'))\n",
        "\n",
        "    basket_sets = basket.applymap(lambda x: 1 if x > 0 else 0)\n",
        "\n",
        "    cosine_sim = 1 - pairwise_distances(basket_sets, metric='cosine')\n",
        "    cosine_sim = pd.DataFrame(cosine_sim, index=basket_sets.index, columns=basket_sets.index)\n",
        "\n",
        "    sim_scores = cosine_sim.loc[order_id]\n",
        "\n",
        "    sim_scores = sim_scores.drop(order_id).sort_values(ascending=False)\n",
        "    most_similar_orders = sim_scores.head(top).index\n",
        "\n",
        "    similar_items = basket_sets.loc[most_similar_orders].sum().sort_values(ascending=False)\n",
        "\n",
        "    items_in_order = basket_sets.loc[order_id]\n",
        "    missing_items = similar_items[items_in_order == 0].head(top)\n",
        "\n",
        "    return missing_items.index.tolist()"
      ]
    },
    {
      "cell_type": "code",
      "execution_count": null,
      "id": "c6e5e6bf",
      "metadata": {
        "id": "c6e5e6bf",
        "outputId": "1c9d77d9-5302-4785-8c26-4f6a00d34206"
      },
      "outputs": [
        {
          "data": {
            "text/plain": [
              "['Raw Peanuts', 'Cookies', 'Other Jams']"
            ]
          },
          "execution_count": 110,
          "metadata": {},
          "output_type": "execute_result"
        }
      ],
      "source": [
        "cosine_missing(bb_data,6468572, 3)"
      ]
    },
    {
      "cell_type": "code",
      "execution_count": null,
      "id": "48d0de1a",
      "metadata": {
        "id": "48d0de1a"
      },
      "outputs": [],
      "source": []
    }
  ],
  "metadata": {
    "kernelspec": {
      "display_name": "Python 3 (ipykernel)",
      "language": "python",
      "name": "python3"
    },
    "language_info": {
      "codemirror_mode": {
        "name": "ipython",
        "version": 3
      },
      "file_extension": ".py",
      "mimetype": "text/x-python",
      "name": "python",
      "nbconvert_exporter": "python",
      "pygments_lexer": "ipython3",
      "version": "3.11.7"
    },
    "colab": {
      "provenance": []
    }
  },
  "nbformat": 4,
  "nbformat_minor": 5
}